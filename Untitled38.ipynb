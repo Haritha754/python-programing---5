{
  "nbformat": 4,
  "nbformat_minor": 0,
  "metadata": {
    "colab": {
      "provenance": []
    },
    "kernelspec": {
      "name": "python3",
      "display_name": "Python 3"
    },
    "language_info": {
      "name": "python"
    }
  },
  "cells": [
    {
      "cell_type": "markdown",
      "source": [
        "1. Replace Character\n",
        "Write a function Replacecharacter(Char str1, Char ch1, Int 1, Char ch2)\n",
        "which has a string(str) and the two characters ch1 and ch2. Execute a\n",
        "function in such a way that string str will return to its original string,\n",
        "and all the events in ch1 are replaced by ch2 and vice versa?\n",
        "Consider: The strings will have only alphabets in lower case.\n",
        "Sample Test Case:\n",
        "Input:\n",
        "str: tervpro\n",
        "ch1: e\n",
        "ch2: p\n",
        "Output:\n",
        "tprvero\n",
        "Solution:\n",
        "All the ‘e’s in the string are replaced with the ‘p’ and ‘p’ is replaced with\n",
        "the ‘e’."
      ],
      "metadata": {
        "id": "oH9vKQpqJH4g"
      }
    },
    {
      "cell_type": "code",
      "source": [
        "def Replacecharacter(str1, ch1, ch2):\n",
        "    str1 = str1.replace(ch1,'#')\n",
        "    str1 = str1.replace(ch2, ch1)\n",
        "    str1 = str1.replace('#',ch2)\n",
        "    return str1\n",
        "str1 = \"tervpro\"\n",
        "ch1 = 'e'\n",
        "ch2 = 'p'\n",
        "output = Replacecharacter(str1, ch1, ch2)\n",
        "print(output)\n"
      ],
      "metadata": {
        "colab": {
          "base_uri": "https://localhost:8080/"
        },
        "id": "IMpORaXjJKzE",
        "outputId": "97c1ef75-4d42-4777-c1b3-352842bce0be"
      },
      "execution_count": 1,
      "outputs": [
        {
          "output_type": "stream",
          "name": "stdout",
          "text": [
            "tprvero\n"
          ]
        }
      ]
    },
    {
      "cell_type": "markdown",
      "source": [
        "10. Reverse a String\n",
        "Write a function that will accept strings from the user and will reverse\n",
        "the string word-wise. The last word will come as the first word in the\n",
        "output and vice versa?\n",
        "Sample Test Case 1:\n",
        "Input:\n",
        "terv pro\n",
        "Output:\n",
        "pro terv\n",
        "Explanation:\n",
        "The reverse string word-wise function is applied.\n",
        "Sample Test Case 2:\n",
        "Input:\n",
        "Welcome to Sunday samayal\n",
        "Output:\n",
        "samayal Sunday to Welcome"
      ],
      "metadata": {
        "id": "cF55nsJiJaXk"
      }
    },
    {
      "cell_type": "code",
      "source": [
        "def rev_str_words(sentence):\n",
        "    rev_sentence=' '.join(sentence.split()[::-1])\n",
        "    return rev_sentence\n",
        "n=\"terv pro\"\n",
        "result=rev_str_words(n)\n",
        "print(result)\n"
      ],
      "metadata": {
        "colab": {
          "base_uri": "https://localhost:8080/"
        },
        "id": "kWcytBcdJelY",
        "outputId": "8fc43b91-6d9b-4d8e-9a10-8ea11d1cf8c2"
      },
      "execution_count": 2,
      "outputs": [
        {
          "output_type": "stream",
          "name": "stdout",
          "text": [
            "pro terv\n"
          ]
        }
      ]
    },
    {
      "cell_type": "markdown",
      "source": [
        "11. Question\n",
        "The function accepts two positive integers ‘r’ and ‘unit’ and a positive\n",
        "integer array ‘arr’ of size ‘n’ as its argument ‘r’ represents the number\n",
        "of rats present in an area, ‘unit’ is the amount of food each rat\n",
        "consumes and each ith element of array ‘arr’ represents the amount of\n",
        "food present in ‘i+1’ house number, where 0 <= i.\n",
        "Note:\n",
        "1. Return -1 if the array is null\n",
        "2. Return 0 if the total amount of food from all houses is not sufficient\n",
        "for all the rats.\n",
        "3. Computed values lie within the integer range.\n",
        "Example:\n",
        "Input:\n",
        "r: 7\n",
        "unit: 2\n",
        "n: 8\n",
        "arr: 2 8 3 5 7 4 1 2\n",
        "Output:\n",
        "4\n",
        "Explanation:\n",
        "Total amount of food required for all rats = r unit\n",
        "= 7 2 = 14.\n",
        "The amount of food in 1st houses = 2+8+3+5 = 18. Since, the amount of\n",
        "food in 1st 4 houses is sufficient for all the rats. Thus, output is 4."
      ],
      "metadata": {
        "id": "Tg0o1zMBJqtQ"
      }
    },
    {
      "cell_type": "code",
      "source": [
        "r = 7\n",
        "unit = 2\n",
        "arr = [2, 8, 3, 5, 7, 4, 1, 2]\n",
        "n = 8\n",
        "if n == 0:\n",
        "    print(-1)\n",
        "else:\n",
        "    total_food = r * unit\n",
        "    total_food_available = 0\n",
        "    house_count = 0\n",
        "    for food in arr:\n",
        "        total_food_available += food\n",
        "        house_count += 1\n",
        "        if total_food_available >= total_food:\n",
        "            print(house_count)\n",
        "            break\n"
      ],
      "metadata": {
        "colab": {
          "base_uri": "https://localhost:8080/"
        },
        "id": "-gEGhiO1JvX9",
        "outputId": "bf8e524f-0495-4b30-c289-81c4361c1620"
      },
      "execution_count": 3,
      "outputs": [
        {
          "output_type": "stream",
          "name": "stdout",
          "text": [
            "4\n"
          ]
        }
      ]
    },
    {
      "cell_type": "markdown",
      "source": [
        "12. QUESTION\n",
        "You are given a function,\n",
        "int findCount(int arr[], int length, int num, int diff);\n",
        "The function accepts an integer array ‘arr’, its length and two integer\n",
        "variables ‘num’ and ‘diff’. Implement this function to find and return\n",
        "the number of elements of ‘arr’ having an absolute difference of less\n",
        "than or equal to ‘diff’ with ‘num’.\n",
        "Note: In case there is no element in ‘arr’ whose absolute difference\n",
        "with ‘num’ is less than or equal to ‘diff’, return -1.\n",
        "Example:\n",
        "Input:\n",
        "arr: 12 3 14 56 77 13\n",
        "num: 13\n",
        "diff: 2\n",
        "Output:\n",
        "3\n",
        "Explanation:\n",
        "Elements of ‘arr’ having absolute difference of less than or equal to\n",
        "‘diff’ i.e. 2 with ‘num’ i.e. 13 are 12, 13 and 14."
      ],
      "metadata": {
        "id": "Sdj9oYshJ-cd"
      }
    },
    {
      "cell_type": "code",
      "source": [
        "def findcount(arr,length,num,diff):\n",
        "    count=0\n",
        "    for i in range(length):\n",
        "        if abs(arr[i]-num)<=diff:\n",
        "            count+=1\n",
        "    if count==0:\n",
        "        return -1\n",
        "    return count\n",
        "arr=[1,2,3,4,5,6]\n",
        "num=6\n",
        "diff=2\n",
        "r=findcount(arr,len(arr),num,diff)\n",
        "print(r)"
      ],
      "metadata": {
        "colab": {
          "base_uri": "https://localhost:8080/"
        },
        "id": "oAbsmWTsKCN2",
        "outputId": "e02a02a7-37fc-4471-d481-6b8b9f599bbc"
      },
      "execution_count": 4,
      "outputs": [
        {
          "output_type": "stream",
          "name": "stdout",
          "text": [
            "3\n"
          ]
        }
      ]
    }
  ]
}